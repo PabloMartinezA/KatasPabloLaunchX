{
 "cells": [
  {
   "cell_type": "markdown",
   "metadata": {},
   "source": [
    "# Ejercicio1 - Utilizar operadores aritméticos"
   ]
  },
  {
   "cell_type": "code",
   "execution_count": null,
   "metadata": {},
   "outputs": [],
   "source": [
    "distancia_tierra = 149597870\n",
    "distancia_jupiter = 778547200\n",
    "\n",
    "distancia_en_kms = abs(distancia_tierra-distancia_jupiter)\n",
    "print(distancia_en_kms)\n",
    "\n",
    "distancia_en_millas = distancia_en_kms*0.621\n",
    "print(round(distancia_en_millas))"
   ]
  },
  {
   "cell_type": "markdown",
   "metadata": {},
   "source": [
    "# Ejercicio 2: convierte cadenas en números y usa valores absolutos"
   ]
  },
  {
   "cell_type": "code",
   "execution_count": 25,
   "metadata": {},
   "outputs": [
    {
     "name": "stdout",
     "output_type": "stream",
     "text": [
      "50300000\n",
      "31236300\n"
     ]
    }
   ],
   "source": [
    "planeta1 = input(\"Ingrese la distancia del sol para el primer planeta en Kilometros\")\n",
    "planeta2 = input(\"Ingrese la distancia del sol para el segundo planeta en Kilometros\")\n",
    "\n",
    "planeta1_int = int(planeta1)\n",
    "planeta2_int = int(planeta2)\n",
    "\n",
    "distancia = abs(planeta1_int-planeta2_int)\n",
    "print(distancia)\n",
    "\n",
    "distancia_millas = distancia*0.621\n",
    "print(round(distancia_millas))"
   ]
  }
 ],
 "metadata": {
  "interpreter": {
   "hash": "a221c69398d3441282b0ad5e9a2c5d7798dc994f61c72eec8db19bf8ccd6a47a"
  },
  "kernelspec": {
   "display_name": "Python 3.10.2 64-bit",
   "language": "python",
   "name": "python3"
  },
  "language_info": {
   "codemirror_mode": {
    "name": "ipython",
    "version": 3
   },
   "file_extension": ".py",
   "mimetype": "text/x-python",
   "name": "python",
   "nbconvert_exporter": "python",
   "pygments_lexer": "ipython3",
   "version": "3.10.2"
  },
  "orig_nbformat": 4
 },
 "nbformat": 4,
 "nbformat_minor": 2
}
