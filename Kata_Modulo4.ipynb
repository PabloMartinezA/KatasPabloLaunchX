{
 "cells": [
  {
   "cell_type": "markdown",
   "metadata": {},
   "source": [
    "# Ejercicio 1: Transformar cadenas"
   ]
  },
  {
   "cell_type": "code",
   "execution_count": null,
   "metadata": {},
   "outputs": [],
   "source": [
    "text = \"\"\"Interesting facts about the Moon. The Moon is Earth's only satellite. There are several interesting facts about the Moon and how it affects life here on Earth. \n",
    "On average, the Moon moves 4cm away from the Earth every year. This yearly drift is not significant enough to cause immediate effects on Earth.The highest daylight temperature of the Moon is 127 C.\"\"\"\n",
    "\n",
    "text_dividido=text.split('.')\n",
    "text_dividido\n",
    "\n",
    "palabras_clave = [\"average\", \"temperature\", \"distance\"]\n",
    "\n",
    "for item in text_dividido:\n",
    "    for palabra_clave in palabras_clave:\n",
    "        if palabra_clave in item:\n",
    "            print(item)\n",
    "            break\n",
    "\n",
    "for item in text_dividido:\n",
    "    for palabra_clave in palabras_clave:\n",
    "        if palabra_clave in item:\n",
    "            print(item.replace('C','Celsius'))\n",
    "            break\n"
   ]
  },
  {
   "cell_type": "markdown",
   "metadata": {},
   "source": [
    "# Ejercicio 2: Formateando Cadenas"
   ]
  },
  {
   "cell_type": "code",
   "execution_count": 114,
   "metadata": {},
   "outputs": [
    {
     "name": "stdout",
     "output_type": "stream",
     "text": [
      "Datos De Gravedad Sobre Moon\n",
      "--------------------------------------------------------------------------------\n",
      "Nombre del planeta: Earth \n",
      "Gravedad en Moon: 1.6199999999999999 m/s2 \n",
      "\n",
      "Datos de Gravedad sobre: Ganímedes \n",
      "\n",
      "Nombre del planeta: Marte  \n",
      "Gravedad en Ganímedes: 1.4300000000000002 m/s2 \n"
     ]
    }
   ],
   "source": [
    "name = \"Moon\"\n",
    "gravity = 0.00162 # in kms\n",
    "planet = \"Earth\"\n",
    "\n",
    "planeta = 'Marte '\n",
    "gravedad  = 0.00143\n",
    "nombre = 'Ganímedes'\n",
    "\n",
    "titulo = f'datos de gravedad sobre {name}'\n",
    "\n",
    "facts = f\"\\n{'-'*80}\\nNombre del planeta: {planet} \\nGravedad en {name}: {gravity * 1000} m/s2 \"\n",
    "\n",
    "plantilla = f\"{titulo.title()}{facts}\"\n",
    "print(plantilla)\n",
    "\n",
    "nueva_plantilla = \"\"\"\\nDatos de Gravedad sobre: {name} \\n\\nNombre del planeta: {planet} \\nGravedad en {name}: {gravity} m/s2 \"\"\"\n",
    "print(nueva_plantilla.format(name=nombre, planet=planeta, gravity=gravedad*1000))\n"
   ]
  }
 ],
 "metadata": {
  "interpreter": {
   "hash": "a221c69398d3441282b0ad5e9a2c5d7798dc994f61c72eec8db19bf8ccd6a47a"
  },
  "kernelspec": {
   "display_name": "Python 3.10.2 64-bit",
   "language": "python",
   "name": "python3"
  },
  "language_info": {
   "codemirror_mode": {
    "name": "ipython",
    "version": 3
   },
   "file_extension": ".py",
   "mimetype": "text/x-python",
   "name": "python",
   "nbconvert_exporter": "python",
   "pygments_lexer": "ipython3",
   "version": "3.10.2"
  },
  "orig_nbformat": 4
 },
 "nbformat": 4,
 "nbformat_minor": 2
}
