{
 "cells": [
  {
   "cell_type": "markdown",
   "metadata": {},
   "source": [
    "# Advertencia asteroide"
   ]
  },
  {
   "cell_type": "code",
   "execution_count": null,
   "metadata": {},
   "outputs": [],
   "source": [
    "velocidad_asteroide = 49\n",
    "\n",
    "if velocidad_asteroide > 25:\n",
    "    print(\"CUIDADO!! Un asteroide se acerca a una velocidad superior a 25 km/s!!!\")\n",
    "else:\n",
    "    print(\"El asteroide se encuentra a una velocidad menor a 25 km/s :)\")"
   ]
  },
  {
   "cell_type": "markdown",
   "metadata": {},
   "source": [
    "# Asteoride en atmosfera terrestre"
   ]
  },
  {
   "cell_type": "code",
   "execution_count": 22,
   "metadata": {},
   "outputs": [
    {
     "name": "stdout",
     "output_type": "stream",
     "text": [
      "No hay estalas de luz :c\n"
     ]
    }
   ],
   "source": [
    "velocidad_asteroide = 19\n",
    "\n",
    "if velocidad_asteroide > 20:\n",
    "    print(\"Estela de luz producida por asteroide! c:\")\n",
    "elif velocidad_asteroide == 20:\n",
    "    print(\"Estela de luz producida por asteroide! c:\")\n",
    "else:\n",
    "    print(\"No hay estela de luz :c\")"
   ]
  },
  {
   "cell_type": "markdown",
   "metadata": {},
   "source": [
    "# Ejercicio: Uso de operadores and y or"
   ]
  },
  {
   "cell_type": "code",
   "execution_count": 46,
   "metadata": {},
   "outputs": [
    {
     "name": "stdout",
     "output_type": "stream",
     "text": [
      "El asteroide se encuentra a una velocidad menor a 25 km/s :), pero no hay estela de luz :c y su tamano presenta una amenaza :c!!!!\n"
     ]
    }
   ],
   "source": [
    "velocidad_asteroide = 19   \n",
    "tamanio_asteroide = 25\n",
    "\n",
    "if velocidad_asteroide > 25 and tamanio_asteroide < 25 or velocidad_asteroide > 25 and tamanio_asteroide >= 25:\n",
    "    if velocidad_asteroide > 25 and tamanio_asteroide >= 25:\n",
    "        print(\"CUIDADO!! Un asteroide se acerca a una velocidad superior a 25 km/s!!! y con un tamano mayor o igual a 25 metros!!!!!\")\n",
    "    elif velocidad_asteroide > 25 and tamanio_asteroide < 25:\n",
    "        print(\"CUIDADO!! Un asteroide se acerca a una velocidad superior a 25 km/s!!! pero con tamano menor a 25 metros!!!!!\")\n",
    "\n",
    "elif velocidad_asteroide > 20 and velocidad_asteroide < 25:\n",
    "    if tamanio_asteroide >= 25:\n",
    "        print(\"Estela de luz producida por asteroide! c:, pero el asteroide presenta un tamano para alertarse!!!\")\n",
    "    elif tamanio_asteroide < 25:\n",
    "        print(\"Estela de luz producida por asteroide! c:, ademas el asteroide no presenta un tamano para alertarse\")\n",
    "\n",
    "elif velocidad_asteroide < 20:\n",
    "    if tamanio_asteroide >= 25:\n",
    "        print(\"El asteroide se encuentra a una velocidad menor a 25 km/s :), pero no hay estela de luz :c y su tamano presenta una amenaza :c!!!!\")\n",
    "    elif tamanio_asteroide < 25:\n",
    "        print(\"El asteroide se encuentra a una velocidad menor a 25 km/s :), pero no hay estela de luz :c pero su tamano no presenta una amenaza c:\")"
   ]
  }
 ],
 "metadata": {
  "interpreter": {
   "hash": "a221c69398d3441282b0ad5e9a2c5d7798dc994f61c72eec8db19bf8ccd6a47a"
  },
  "kernelspec": {
   "display_name": "Python 3.10.2 64-bit",
   "language": "python",
   "name": "python3"
  },
  "language_info": {
   "codemirror_mode": {
    "name": "ipython",
    "version": 3
   },
   "file_extension": ".py",
   "mimetype": "text/x-python",
   "name": "python",
   "nbconvert_exporter": "python",
   "pygments_lexer": "ipython3",
   "version": "3.10.2"
  },
  "orig_nbformat": 4
 },
 "nbformat": 4,
 "nbformat_minor": 2
}
