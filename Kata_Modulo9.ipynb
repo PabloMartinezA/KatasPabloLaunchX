{
 "cells": [
  {
   "cell_type": "markdown",
   "metadata": {},
   "source": [
    "# Ejercicio 1: Trabajar con argumentos en funciones"
   ]
  },
  {
   "cell_type": "code",
   "execution_count": null,
   "metadata": {},
   "outputs": [],
   "source": [
    "def tanques(tanque1,tanque2,tanque3):\n",
    "    return f\"Promedio: {promedio([tanque1,tanque2,tanque3])}% \\ntanque1: {tanque1}% \\ntanque2: {tanque2}% \\ntanque3: {tanque3}%\"\n",
    "\n",
    "def promedio(valores):\n",
    "    total=sum(valores)\n",
    "    cantidad=len(valores)\n",
    "    return total/cantidad\n",
    "\n",
    "print(tanques(60,15,5))"
   ]
  },
  {
   "cell_type": "markdown",
   "metadata": {},
   "source": [
    "# Ejercicio 2: Trabajo con argumentos de palabra clave"
   ]
  },
  {
   "cell_type": "code",
   "execution_count": null,
   "metadata": {},
   "outputs": [],
   "source": [
    "def inf_mision(horapre,tiempovu,destino,tanqueex,tanqueint):\n",
    "    return f\"Destino: {destino} \\nTiempo de viaje: {horapre+tiempovu} minutos \\nCombustible total restante: {tanqueex+tanqueint} galones\"\n",
    "\n",
    "print(inf_mision(10, 70, \"Marte\", 500000, 1000000))\n",
    "\n",
    "def inf_mision(destino, *minutos, **reserva_combus):\n",
    "    reporte= f\"\\nDestino: {destino} \\nTiempo de viaje: {sum(minutos)} minutos \\nCombustible total restante: {sum(reserva_combus.values())} galones\\n\"\n",
    "    \n",
    "    for tanque, galones in reserva_combus.items():\n",
    "        reporte += f\"{tanque} --> {galones} galones restantes\\n\"\n",
    "    return reporte\n",
    "\n",
    "print(inf_mision(\"Marte\", 10, 70, tanqueint=1000000, tanqueex=500000))"
   ]
  }
 ],
 "metadata": {
  "interpreter": {
   "hash": "a221c69398d3441282b0ad5e9a2c5d7798dc994f61c72eec8db19bf8ccd6a47a"
  },
  "kernelspec": {
   "display_name": "Python 3.10.2 64-bit",
   "language": "python",
   "name": "python3"
  },
  "language_info": {
   "codemirror_mode": {
    "name": "ipython",
    "version": 3
   },
   "file_extension": ".py",
   "mimetype": "text/x-python",
   "name": "python",
   "nbconvert_exporter": "python",
   "pygments_lexer": "ipython3",
   "version": "3.10.2"
  },
  "orig_nbformat": 4
 },
 "nbformat": 4,
 "nbformat_minor": 2
}
