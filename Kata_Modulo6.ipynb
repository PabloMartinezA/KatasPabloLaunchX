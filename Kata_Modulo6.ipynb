{
 "cells": [
  {
   "cell_type": "markdown",
   "metadata": {},
   "source": [
    "# Ejercicio1: Crear y usar listas de Python\n"
   ]
  },
  {
   "cell_type": "code",
   "execution_count": null,
   "metadata": {},
   "outputs": [],
   "source": [
    "planets = ['Mercurio', 'Venus', 'Tierra', 'Marte', 'Jupiter', 'Saturno', 'Urano', 'Neptuno']\n",
    "print(planets)\n",
    "\n",
    "planets.append('Pluto')\n",
    "print(planets)\n",
    "\n",
    "numero_de_planetas = len(planets)\n",
    "print(numero_de_planetas)\n",
    "print(planets[-1])"
   ]
  },
  {
   "cell_type": "markdown",
   "metadata": {},
   "source": [
    "# Ejercicio 2: Trabajando con datos de una lista"
   ]
  },
  {
   "cell_type": "code",
   "execution_count": 39,
   "metadata": {},
   "outputs": [
    {
     "name": "stdout",
     "output_type": "stream",
     "text": [
      "Earth es el planeta numero 3 en el sistema solar\n",
      "planetas mas cercanos al sol que Earth son: ['Mercury', 'Venus']\n",
      "planetas mas lejanos al sol que Earth son: ['Mars', 'Jupiter', 'Saturn', 'Neptune']\n"
     ]
    }
   ],
   "source": [
    "planets = ['Mercury', 'Venus', 'Earth', 'Mars', 'Jupiter', 'Saturn', 'Neptune']\n",
    "planeta_input = input('Ingrese el nombre de un planeta (favor de empezar el nombre con una letra mayuscula)')\n",
    "planeta_index = planets.index(planeta_input)\n",
    "print(f'{planeta_input} es el planeta numero {planeta_index+1} en el sistema solar')\n",
    "\n",
    "planetas_antes = planets[0:planeta_index]\n",
    "print(f'Planetas mas cercanos al sol que {planeta_input} son: {planetas_antes}')\n",
    "\n",
    "planetas_despues = planets[planeta_index+1:]\n",
    "print(f'Planetas mas lejanos al sol que {planeta_input} son: {planetas_despues}')"
   ]
  }
 ],
 "metadata": {
  "interpreter": {
   "hash": "a221c69398d3441282b0ad5e9a2c5d7798dc994f61c72eec8db19bf8ccd6a47a"
  },
  "kernelspec": {
   "display_name": "Python 3.10.2 64-bit",
   "language": "python",
   "name": "python3"
  },
  "language_info": {
   "codemirror_mode": {
    "name": "ipython",
    "version": 3
   },
   "file_extension": ".py",
   "mimetype": "text/x-python",
   "name": "python",
   "nbconvert_exporter": "python",
   "pygments_lexer": "ipython3",
   "version": "3.10.2"
  },
  "orig_nbformat": 4
 },
 "nbformat": 4,
 "nbformat_minor": 2
}
